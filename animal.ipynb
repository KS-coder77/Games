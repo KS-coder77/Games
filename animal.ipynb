{
 "cells": [
  {
   "cell_type": "code",
   "execution_count": 80,
   "id": "rental-organization",
   "metadata": {},
   "outputs": [
    {
     "name": "stdout",
     "output_type": "stream",
     "text": [
      "Guess an animal which begins with l and is 7 letters long?\n",
      "Enter your guess >>>>leopard\n",
      "Correct!!\n",
      "Do you want to play again? (Y/N)\n",
      "Y\n",
      "Guess an animal which begins with e and is 8 letters long?\n",
      "Enter your guess >>>>elephant\n",
      "Correct!!\n",
      "Do you want to play again? (Y/N)\n",
      "Y\n",
      "Guess an animal which begins with h and is 8 letters long?\n",
      "Enter your guess >>>>hippopotamus\n",
      "Incorrect, guess again. You have 4 guesses left.\n",
      ">>>>>heron\n",
      "Incorrect, guess again. You have 3 guesses left.\n",
      ">>>>>hyena\n",
      "Incorrect, guess again. You have 2 guesses left.\n",
      ">>>>>horse\n",
      "Incorrect, guess again. You have 1 guesses left.\n",
      ">>>>>h\n",
      "Incorrect, guess again. You have 0 guesses left.\n",
      ">>>>>hh\n",
      "The correct answer was, hornbill\n",
      "Do you want to play again? (Y/N)\n",
      "N\n",
      "******\n"
     ]
    }
   ],
   "source": [
    "fh=open('/Users/krupasarna/Desktop/zoo.txt')\n",
    "data=fh.read()\n",
    "#print(data)\n",
    "\n",
    "\n",
    "data=data.split()\n",
    "lst=list(data)\n",
    "#print(lst)\n",
    "\n",
    "\n",
    "while True: \n",
    "    count=5 \n",
    "    rand_word=random.choice(lst)\n",
    "    #print(rand_word)\n",
    "    #rand_letter=random.choice(rand_word[:])\n",
    "    question=print('Guess an animal which begins with', rand_word[0],'and is', len(rand_word),'letters long?')\n",
    "    guess=input('Enter your guess >>>>')\n",
    "    \n",
    "\n",
    "    if guess == rand_word:\n",
    "        print('Correct!!')\n",
    "    \n",
    "    else: \n",
    "        while count<=5 and count>0: \n",
    "            count=count-1\n",
    "            print('Incorrect, guess again. You have', count, 'guesses left.')\n",
    "            #print(rand_word[0:2])\n",
    "            guess=input('>>>>>')\n",
    "            if guess == rand_word:\n",
    "                print('Correct!!')\n",
    "                break\n",
    "            else: \n",
    "                if count <=0:\n",
    "                    print('The correct answer was,', rand_word)\n",
    "                continue \n",
    "    \n",
    "    print(\"Do you want to play again? (Y/N)\")\n",
    "    ans = input()\n",
    "  \n",
    "  \n",
    "    # if user input n or N then condition is True\n",
    "    if ans == 'n' or ans == 'N':\n",
    "        break\n",
    "\n",
    "print('******')\n",
    "\n",
    "    \n",
    "\n",
    "        \n",
    "\n"
   ]
  },
  {
   "cell_type": "code",
   "execution_count": null,
   "id": "identified-sunday",
   "metadata": {},
   "outputs": [],
   "source": []
  },
  {
   "cell_type": "code",
   "execution_count": null,
   "id": "accepted-commerce",
   "metadata": {},
   "outputs": [],
   "source": []
  },
  {
   "cell_type": "code",
   "execution_count": null,
   "id": "close-numbers",
   "metadata": {},
   "outputs": [],
   "source": []
  },
  {
   "cell_type": "code",
   "execution_count": null,
   "id": "executive-funeral",
   "metadata": {},
   "outputs": [],
   "source": []
  },
  {
   "cell_type": "code",
   "execution_count": null,
   "id": "greenhouse-annual",
   "metadata": {},
   "outputs": [],
   "source": []
  }
 ],
 "metadata": {
  "kernelspec": {
   "display_name": "Python 3",
   "language": "python",
   "name": "python3"
  },
  "language_info": {
   "codemirror_mode": {
    "name": "ipython",
    "version": 3
   },
   "file_extension": ".py",
   "mimetype": "text/x-python",
   "name": "python",
   "nbconvert_exporter": "python",
   "pygments_lexer": "ipython3",
   "version": "3.8.5"
  }
 },
 "nbformat": 4,
 "nbformat_minor": 5
}
